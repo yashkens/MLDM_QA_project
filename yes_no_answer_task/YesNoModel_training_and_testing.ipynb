{
 "cells": [
  {
   "cell_type": "code",
   "execution_count": 1,
   "id": "844338c4-bce1-4fef-be1e-afd349dcfdb9",
   "metadata": {},
   "outputs": [],
   "source": [
    "import json\n",
    "import pandas as pd\n",
    "import re\n",
    "import numpy as np\n",
    "import torch\n",
    "import random\n",
    "from torch.utils.data import Dataset, DataLoader\n",
    "from transformers import BertTokenizerFast, BertForSequenceClassification\n",
    "from sklearn.metrics import accuracy_score, f1_score\n",
    "from sklearn.model_selection import train_test_split\n",
    "import matplotlib.pyplot as plt\n",
    "from IPython.display import clear_output\n",
    "from torch.nn import DataParallel\n",
    "import time\n",
    "from tqdm import tqdm"
   ]
  },
  {
   "cell_type": "code",
   "execution_count": 2,
   "id": "ab16ac4b",
   "metadata": {},
   "outputs": [],
   "source": [
    "from yes_no_dataset import YesNoAnswerDataset, simplify_nq_example\n",
    "from yes_no_model import YesNoAnswerModel"
   ]
  },
  {
   "cell_type": "markdown",
   "id": "ae5b35db",
   "metadata": {},
   "source": [
    "### Read & Prepare Data"
   ]
  },
  {
   "cell_type": "code",
   "execution_count": 3,
   "id": "95382ae3",
   "metadata": {},
   "outputs": [],
   "source": [
    "def read_json(filename):\n",
    "    with open(filename, 'r') as json_file:\n",
    "        json_list = list(json_file)\n",
    "        \n",
    "    data = []\n",
    "    for json_str in json_list:\n",
    "        data.append(json.loads(json_str))\n",
    "    return data"
   ]
  },
  {
   "cell_type": "code",
   "execution_count": 4,
   "id": "a3571a5c-c23a-4601-8dcf-0f595d7d7800",
   "metadata": {},
   "outputs": [],
   "source": [
    "train_data = read_json(\"v1.0-simplified_simplified-nq-train.jsonl\")\n",
    "dev_data = read_json(\"v1.0-simplified_nq-dev-all.jsonl\")"
   ]
  },
  {
   "cell_type": "code",
   "execution_count": 5,
   "id": "72778785",
   "metadata": {},
   "outputs": [],
   "source": [
    "val_data, test_data = train_test_split(dev_data, test_size=0.4, random_state=42)"
   ]
  },
  {
   "cell_type": "code",
   "execution_count": 6,
   "id": "b5045f38",
   "metadata": {},
   "outputs": [],
   "source": [
    "tokenizer = BertTokenizerFast.from_pretrained('bert-base-cased')"
   ]
  },
  {
   "cell_type": "code",
   "execution_count": 7,
   "id": "5433467b",
   "metadata": {},
   "outputs": [
    {
     "name": "stderr",
     "output_type": "stream",
     "text": [
      "100%|█████████████████████████████████████████████████████████████████████████| 307373/307373 [02:46<00:00, 1847.26it/s]\n",
      "100%|██████████████████████████████████████████████████████████████████████████████| 4698/4698 [00:40<00:00, 115.89it/s]\n",
      "100%|██████████████████████████████████████████████████████████████████████████████| 3132/3132 [00:27<00:00, 112.83it/s]\n"
     ]
    }
   ],
   "source": [
    "max_len = 500\n",
    "\n",
    "dataset_train = YesNoAnswerDataset(train_data, simplify_nq_example, tokenizer, max_len, should_simplify=False, balance=True, test=False)\n",
    "dataset_val = YesNoAnswerDataset(val_data, simplify_nq_example, tokenizer, max_len, should_simplify=True, balance=False, test=False)\n",
    "dataset_test = YesNoAnswerDataset(test_data, simplify_nq_example, tokenizer, max_len, should_simplify=True, balance=False, test=True)"
   ]
  },
  {
   "cell_type": "code",
   "execution_count": 8,
   "id": "63dcfcad",
   "metadata": {},
   "outputs": [],
   "source": [
    "bs = 32\n",
    "train_dataloader = DataLoader(dataset_train, batch_size=bs, shuffle=True)\n",
    "val_dataloader = DataLoader(dataset_val, batch_size=bs, shuffle=True)"
   ]
  },
  {
   "cell_type": "code",
   "execution_count": 9,
   "id": "d76ed56c",
   "metadata": {},
   "outputs": [
    {
     "name": "stdout",
     "output_type": "stream",
     "text": [
      "Training Steps: 244\n",
      "Validation Steps: 71\n"
     ]
    }
   ],
   "source": [
    "print(f\"Training Steps: {len(train_dataloader)}\")\n",
    "print(f\"Validation Steps: {len(val_dataloader)}\")"
   ]
  },
  {
   "cell_type": "markdown",
   "id": "23a5a43c",
   "metadata": {},
   "source": [
    "### Load model"
   ]
  },
  {
   "cell_type": "code",
   "execution_count": 19,
   "id": "9cf749c3-9cde-46ac-a0c9-5c7e3701d829",
   "metadata": {},
   "outputs": [
    {
     "name": "stderr",
     "output_type": "stream",
     "text": [
      "Some weights of the model checkpoint at bert-base-uncased were not used when initializing BertForSequenceClassification: ['cls.predictions.decoder.weight', 'cls.predictions.transform.LayerNorm.weight', 'cls.seq_relationship.bias', 'cls.predictions.bias', 'cls.predictions.transform.LayerNorm.bias', 'cls.seq_relationship.weight', 'cls.predictions.transform.dense.bias', 'cls.predictions.transform.dense.weight']\n",
      "- This IS expected if you are initializing BertForSequenceClassification from the checkpoint of a model trained on another task or with another architecture (e.g. initializing a BertForSequenceClassification model from a BertForPreTraining model).\n",
      "- This IS NOT expected if you are initializing BertForSequenceClassification from the checkpoint of a model that you expect to be exactly identical (initializing a BertForSequenceClassification model from a BertForSequenceClassification model).\n",
      "Some weights of BertForSequenceClassification were not initialized from the model checkpoint at bert-base-uncased and are newly initialized: ['classifier.weight', 'classifier.bias']\n",
      "You should probably TRAIN this model on a down-stream task to be able to use it for predictions and inference.\n"
     ]
    }
   ],
   "source": [
    "model = BertForSequenceClassification.from_pretrained(\n",
    "    'bert-base-uncased',\n",
    "    num_labels = 3\n",
    ")"
   ]
  },
  {
   "cell_type": "code",
   "execution_count": 20,
   "id": "6640c317",
   "metadata": {},
   "outputs": [],
   "source": [
    "# freeze all BERT layers except for last two\n",
    "\n",
    "for name, param in model.named_parameters():\n",
    "    if name.startswith(\"classifier\") or name.startswith(\"bert.encoder.layer.11\") or name.startswith(\"bert.encoder.layer.10\"): \n",
    "        continue\n",
    "    else:\n",
    "        param.requires_grad = False"
   ]
  },
  {
   "cell_type": "code",
   "execution_count": 21,
   "id": "55209cf4-de28-4ece-a69b-730d62cc41b0",
   "metadata": {},
   "outputs": [
    {
     "data": {
      "text/plain": [
       "device(type='cuda')"
      ]
     },
     "execution_count": 21,
     "metadata": {},
     "output_type": "execute_result"
    }
   ],
   "source": [
    "device = torch.device('cuda' if torch.cuda.is_available() else 'cpu')\n",
    "device"
   ]
  },
  {
   "cell_type": "code",
   "execution_count": 22,
   "id": "305e7660-28da-4ed0-b9a0-12309807d5c4",
   "metadata": {},
   "outputs": [],
   "source": [
    "lr = 1e-05\n",
    "optimizer = torch.optim.Adam(params=model.parameters(), lr=lr)"
   ]
  },
  {
   "cell_type": "code",
   "execution_count": 23,
   "id": "3b96fd71-de97-4d32-9ec1-1a27e5c701f6",
   "metadata": {},
   "outputs": [],
   "source": [
    "answer_model = YesNoAnswerModel(model, device=device)"
   ]
  },
  {
   "cell_type": "markdown",
   "id": "bbc38edb",
   "metadata": {},
   "source": [
    "### Train"
   ]
  },
  {
   "cell_type": "code",
   "execution_count": 24,
   "id": "1bc7b086-f3be-4666-9d64-e357ee7e82a0",
   "metadata": {},
   "outputs": [
    {
     "data": {
      "image/png": "[encoded data removed]",
      "text/plain": [
       "<Figure size 900x300 with 4 Axes>"
      ]
     },
     "metadata": {},
     "output_type": "display_data"
    },
    {
     "name": "stdout",
     "output_type": "stream",
     "text": [
      "Epoch 7\n",
      "Train loss: 0.400\n",
      "Train micro F1: 0.807\n",
      "Validation loss: 0.126\n",
      "Validation micro F1: 0.962\n",
      "Epoch time: 308.064s\n"
     ]
    }
   ],
   "source": [
    "answer_model.train(train_dataloader, val_dataloader, 8, optimizer, checkpoint_step=50, model_save_name='yes_no_model.pt')"
   ]
  },
  {
   "cell_type": "markdown",
   "id": "5ec3e438",
   "metadata": {},
   "source": [
    "### Test"
   ]
  },
  {
   "cell_type": "code",
   "execution_count": 25,
   "id": "f7553cb5",
   "metadata": {},
   "outputs": [],
   "source": [
    "test_dataloader = DataLoader(dataset_test, batch_size=1, shuffle=False)"
   ]
  },
  {
   "cell_type": "code",
   "execution_count": 26,
   "id": "939c1e1b",
   "metadata": {},
   "outputs": [],
   "source": [
    "label_dict = {\"NO\": 0, \"YES\": 1, \"NONE\": 2}\n",
    "gold = []\n",
    "\n",
    "for ex in test_data:\n",
    "    long_answer_info = ex['annotations'][0]['long_answer']\n",
    "    if long_answer_info['candidate_index'] == -1:\n",
    "        continue\n",
    "    ans = ex['annotations'][0]['yes_no_answer']\n",
    "    gold.append(label_dict[ans])"
   ]
  },
  {
   "cell_type": "code",
   "execution_count": 28,
   "id": "c2afec74",
   "metadata": {},
   "outputs": [
    {
     "name": "stderr",
     "output_type": "stream",
     "text": [
      "100%|███████████████████████████████████████████████████████████████████████████████| 1504/1504 [00:49<00:00, 30.65it/s]\n"
     ]
    }
   ],
   "source": [
    "pred = []\n",
    "\n",
    "for batch in tqdm(test_dataloader):\n",
    "    encoding = batch\n",
    "    answer = answer_model(encoding['input_ids'][0], encoding['attention_mask'][0])\n",
    "    pred.append(int(answer[0]))"
   ]
  },
  {
   "cell_type": "code",
   "execution_count": 32,
   "id": "81ebe0fa",
   "metadata": {},
   "outputs": [
    {
     "data": {
      "text/plain": [
       "(1504, 1504)"
      ]
     },
     "execution_count": 32,
     "metadata": {},
     "output_type": "execute_result"
    }
   ],
   "source": [
    "len(pred), len(gold)"
   ]
  },
  {
   "cell_type": "code",
   "execution_count": 30,
   "id": "8e480ecc",
   "metadata": {},
   "outputs": [
    {
     "name": "stdout",
     "output_type": "stream",
     "text": [
      "F score: 0.9574\n"
     ]
    }
   ],
   "source": [
    "print(f\"F score: {f1_score(pred, gold, average='micro'):.4f}\")"
   ]
  },
  {
   "cell_type": "code",
   "execution_count": 31,
   "id": "6b4697e3",
   "metadata": {},
   "outputs": [
    {
     "name": "stdout",
     "output_type": "stream",
     "text": [
      "Majority baseline\n",
      "F score: 0.9767\n"
     ]
    }
   ],
   "source": [
    "print(\"Majority baseline\")\n",
    "print(f\"F score: {f1_score([2]*len(gold), gold, average='micro'):.4f}\")"
   ]
  }
 ],
 "metadata": {
  "kernelspec": {
   "display_name": "Python 3 (ipykernel)",
   "language": "python",
   "name": "python3"
  },
  "language_info": {
   "codemirror_mode": {
    "name": "ipython",
    "version": 3
   },
   "file_extension": ".py",
   "mimetype": "text/x-python",
   "name": "python",
   "nbconvert_exporter": "python",
   "pygments_lexer": "ipython3",
   "version": "3.8.13"
  }
 },
 "nbformat": 4,
 "nbformat_minor": 5
}
