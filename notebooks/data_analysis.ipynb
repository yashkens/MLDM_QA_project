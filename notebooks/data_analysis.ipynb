{
 "cells": [
  {
   "cell_type": "code",
   "execution_count": 7,
   "id": "2f2cf45f",
   "metadata": {},
   "outputs": [],
   "source": [
    "import json\n",
    "import re"
   ]
  },
  {
   "cell_type": "code",
   "execution_count": null,
   "id": "804d73ce",
   "metadata": {},
   "outputs": [],
   "source": [
    "file_path = 'v1.0-simplified_nq-dev-all.jsonl'\n",
    "with open(file_path, 'r') as json_file:\n",
    "    json_list = list(json_file)\n",
    "\n",
    "data = []\n",
    "for json_str in json_list:\n",
    "    data.append(json.loads(json_str))"
   ]
  },
  {
   "cell_type": "code",
   "execution_count": 3,
   "id": "f6676b21",
   "metadata": {},
   "outputs": [],
   "source": [
    "def get_nq_tokens(simplified_nq_example):\n",
    "\n",
    "    if \"document_text\" not in simplified_nq_example:\n",
    "        raise ValueError(\"`get_nq_tokens` should be called on a simplified NQ\"\n",
    "                     \"example that contains the `document_text` field.\")\n",
    "\n",
    "    return simplified_nq_example[\"document_text\"].split(\" \")"
   ]
  },
  {
   "cell_type": "code",
   "execution_count": 4,
   "id": "73f35cc3",
   "metadata": {},
   "outputs": [],
   "source": [
    "def simplify_nq_example(nq_example):\n",
    "\n",
    "    def _clean_token(token):\n",
    "        return re.sub(u\" \", \"_\", token[\"token\"])\n",
    "\n",
    "    text = \" \".join([_clean_token(t) for t in nq_example[\"document_tokens\"]])\n",
    "\n",
    "    def _remove_html_byte_offsets(span):\n",
    "        if \"start_byte\" in span:\n",
    "            del span[\"start_byte\"]\n",
    "\n",
    "        if \"end_byte\" in span:\n",
    "            del span[\"end_byte\"]\n",
    "\n",
    "        return span\n",
    "\n",
    "    def _clean_annotation(annotation):\n",
    "        annotation[\"long_answer\"] = _remove_html_byte_offsets(\n",
    "            annotation[\"long_answer\"])\n",
    "        annotation[\"short_answers\"] = [\n",
    "            _remove_html_byte_offsets(sa) for sa in annotation[\"short_answers\"]\n",
    "        ]\n",
    "        return annotation\n",
    "\n",
    "    simplified_nq_example = {\n",
    "      \"question_text\": nq_example[\"question_text\"],\n",
    "      \"example_id\": nq_example[\"example_id\"],\n",
    "      \"document_url\": nq_example[\"document_url\"],\n",
    "      \"document_text\": text,\n",
    "      \"long_answer_candidates\": [\n",
    "          _remove_html_byte_offsets(c)\n",
    "          for c in nq_example[\"long_answer_candidates\"]\n",
    "      ],\n",
    "      \"annotations\": [_clean_annotation(a) for a in nq_example[\"annotations\"]]\n",
    "    }\n",
    "\n",
    "    if len(get_nq_tokens(simplified_nq_example)) != len(\n",
    "      nq_example[\"document_tokens\"]):\n",
    "        raise ValueError(\"Incorrect number of tokens.\")\n",
    "\n",
    "    return simplified_nq_example"
   ]
  },
  {
   "cell_type": "code",
   "execution_count": 5,
   "id": "362ae13a",
   "metadata": {},
   "outputs": [],
   "source": [
    "def make_human_readable_example(example):\n",
    "    \n",
    "    tokens = example['document_text'].split()\n",
    "    \n",
    "    question = example['question_text']\n",
    "    long_answer_info = example['annotations'][0]['long_answer']  # why first annotation?\n",
    "    short_answer_info = example['annotations'][0]['short_answers']\n",
    "    if long_answer_info['candidate_index'] == -1:\n",
    "        return None, None, None\n",
    "    long_answer = tokens[long_answer_info['start_token']:long_answer_info['end_token']]\n",
    "    \n",
    "    short_answers = []\n",
    "    for ans in short_answer_info:\n",
    "        short_answers.append(' '.join(tokens[ans['start_token']:ans['end_token']]))\n",
    "    if not short_answers:\n",
    "        return None, None, None\n",
    "    \n",
    "    return question, ' '.join(long_answer), ' '.join(short_answers)"
   ]
  },
  {
   "cell_type": "code",
   "execution_count": 8,
   "id": "d900744d",
   "metadata": {},
   "outputs": [
    {
     "name": "stdout",
     "output_type": "stream",
     "text": [
      "Question: what do the 3 dots mean in math\n",
      "\n",
      "Long answer: <P> In logical argument and mathematical proof , the therefore sign ( ∴ ) is generally used before a logical consequence , such as the conclusion of a syllogism . The symbol consists of three dots placed in an upright triangle and is read therefore . It is encoded at U + 2234 ∴ therefore ( HTML & # 8756 ; &there4 ; ) . For common use in Microsoft Office hold the ALT key and type `` 8756 '' . While it is not generally used in formal writing , it is used in mathematics and shorthand . It is complementary to U + 2235 ∵ because ( HTML & # 8757 ; ) . </P>\n",
      "\n",
      "Short answer: the therefore sign ( ∴ ) is generally used before a logical consequence , such as the conclusion of a syllogism\n"
     ]
    }
   ],
   "source": [
    "ind = 0\n",
    "example = data[ind]\n",
    "simple_example = simplify_nq_example(example)\n",
    "\n",
    "q, l, s = make_human_readable_example(simple_example)\n",
    "print(f'Question: {q}\\n')\n",
    "print(f'Long answer: {l}\\n')\n",
    "print(f'Short answer: {s}')"
   ]
  },
  {
   "cell_type": "markdown",
   "id": "229234fc",
   "metadata": {},
   "source": [
    "- **question_text:** question\n",
    "- **document_text:** whole wiki page\n",
    "- **annotations:** list of 5 annotations including long answer info & short answers info\n",
    "- **short_answers:** list of dicts with start and end tokens of actual short answers (can be empty)\n",
    "- **long_answer:** dict with start and end tokens of actual long answer (token can be =-1 meaning no answer)\n",
    "- **long_answer_candidates:** list of paragphaphs from wiki page with start and end tokens"
   ]
  }
 ],
 "metadata": {
  "kernelspec": {
   "display_name": "Python 3 (ipykernel)",
   "language": "python",
   "name": "python3"
  },
  "language_info": {
   "codemirror_mode": {
    "name": "ipython",
    "version": 3
   },
   "file_extension": ".py",
   "mimetype": "text/x-python",
   "name": "python",
   "nbconvert_exporter": "python",
   "pygments_lexer": "ipython3",
   "version": "3.8.13"
  }
 },
 "nbformat": 4,
 "nbformat_minor": 5
}
