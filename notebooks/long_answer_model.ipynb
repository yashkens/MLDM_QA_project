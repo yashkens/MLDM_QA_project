{
 "cells": [
  {
   "cell_type": "code",
   "execution_count": 1,
   "id": "844338c4-bce1-4fef-be1e-afd349dcfdb9",
   "metadata": {},
   "outputs": [],
   "source": [
    "import json\n",
    "import pandas as pd\n",
    "import re\n",
    "import numpy as np\n",
    "import torch\n",
    "import random\n",
    "from torch.utils.data import Dataset, DataLoader\n",
    "from transformers import BertTokenizerFast, BertForSequenceClassification\n",
    "from sklearn.metrics import accuracy_score, f1_score\n",
    "import matplotlib.pyplot as plt\n",
    "from IPython.display import clear_output\n",
    "import time"
   ]
  },
  {
   "cell_type": "code",
   "execution_count": 2,
   "id": "a3571a5c-c23a-4601-8dcf-0f595d7d7800",
   "metadata": {},
   "outputs": [],
   "source": [
    "with open('../notebooks/v1.0-simplified_nq-dev-all.jsonl', 'r') as json_file:\n",
    "    json_list = list(json_file)\n",
    "\n",
    "data = []\n",
    "for json_str in json_list:\n",
    "    data.append(json.loads(json_str))"
   ]
  },
  {
   "cell_type": "code",
   "execution_count": 25,
   "id": "9cf749c3-9cde-46ac-a0c9-5c7e3701d829",
   "metadata": {},
   "outputs": [
    {
     "name": "stderr",
     "output_type": "stream",
     "text": [
      "Some weights of the model checkpoint at bert-base-uncased were not used when initializing BertForSequenceClassification: ['cls.predictions.transform.dense.weight', 'cls.predictions.transform.dense.bias', 'cls.seq_relationship.bias', 'cls.predictions.transform.LayerNorm.bias', 'cls.predictions.decoder.weight', 'cls.predictions.transform.LayerNorm.weight', 'cls.predictions.bias', 'cls.seq_relationship.weight']\n",
      "- This IS expected if you are initializing BertForSequenceClassification from the checkpoint of a model trained on another task or with another architecture (e.g. initializing a BertForSequenceClassification model from a BertForPreTraining model).\n",
      "- This IS NOT expected if you are initializing BertForSequenceClassification from the checkpoint of a model that you expect to be exactly identical (initializing a BertForSequenceClassification model from a BertForSequenceClassification model).\n",
      "Some weights of BertForSequenceClassification were not initialized from the model checkpoint at bert-base-uncased and are newly initialized: ['classifier.bias', 'classifier.weight']\n",
      "You should probably TRAIN this model on a down-stream task to be able to use it for predictions and inference.\n"
     ]
    }
   ],
   "source": [
    "tokenizer = BertTokenizerFast.from_pretrained('bert-base-cased')\n",
    "model = BertForSequenceClassification.from_pretrained(\n",
    "    'bert-base-uncased',\n",
    "    num_labels = 2\n",
    ")"
   ]
  },
  {
   "cell_type": "code",
   "execution_count": 4,
   "id": "095f56e6",
   "metadata": {},
   "outputs": [],
   "source": [
    "def get_nq_tokens(simplified_nq_example):\n",
    "\n",
    "    if \"document_text\" not in simplified_nq_example:\n",
    "        raise ValueError(\"`get_nq_tokens` should be called on a simplified NQ\"\n",
    "                         \"example that contains the `document_text` field.\")\n",
    "\n",
    "    return simplified_nq_example[\"document_text\"].split(\" \")\n",
    "\n",
    "\n",
    "# this func is taken from official NaturalQuestions repo too\n",
    "def simplify_nq_example(nq_example):\n",
    "\n",
    "    def _clean_token(token):\n",
    "        return re.sub(u\" \", \"_\", token[\"token\"])\n",
    "\n",
    "    text = \" \".join([_clean_token(t) for t in nq_example[\"document_tokens\"]])\n",
    "\n",
    "    def _remove_html_byte_offsets(span):\n",
    "        if \"start_byte\" in span:\n",
    "            del span[\"start_byte\"]\n",
    "\n",
    "        if \"end_byte\" in span:\n",
    "            del span[\"end_byte\"]\n",
    "\n",
    "        return span\n",
    "\n",
    "    def _clean_annotation(annotation):\n",
    "        annotation[\"long_answer\"] = _remove_html_byte_offsets(\n",
    "            annotation[\"long_answer\"])\n",
    "        annotation[\"short_answers\"] = [\n",
    "            _remove_html_byte_offsets(sa) for sa in annotation[\"short_answers\"]\n",
    "        ]\n",
    "        return annotation\n",
    "\n",
    "    simplified_nq_example = {\n",
    "      \"question_text\": nq_example[\"question_text\"],\n",
    "      \"example_id\": nq_example[\"example_id\"],\n",
    "      \"document_url\": nq_example[\"document_url\"],\n",
    "      \"document_text\": text,\n",
    "      \"long_answer_candidates\": [\n",
    "          _remove_html_byte_offsets(c)\n",
    "          for c in nq_example[\"long_answer_candidates\"]\n",
    "      ],\n",
    "      \"annotations\": [_clean_annotation(a) for a in nq_example[\"annotations\"]]\n",
    "    }\n",
    "\n",
    "    if len(get_nq_tokens(simplified_nq_example)) != len(\n",
    "      nq_example[\"document_tokens\"]):\n",
    "        raise ValueError(\"Incorrect number of tokens.\")\n",
    "\n",
    "    return simplified_nq_example"
   ]
  },
  {
   "cell_type": "code",
   "execution_count": 5,
   "id": "d6c0cf12-856b-48fa-b249-1e8734ecba89",
   "metadata": {},
   "outputs": [],
   "source": [
    "import re\n",
    "\n",
    "import pandas as pd\n",
    "from nltk.corpus import stopwords\n",
    "from torch.utils.data import Dataset"
   ]
  },
  {
   "cell_type": "code",
   "execution_count": 6,
   "id": "8ee3a131-12ae-4904-957c-0c997d877cb2",
   "metadata": {},
   "outputs": [],
   "source": [
    "class LongAnswerDatasetBase(Dataset):\n",
    "    SAMPLE_RATE = 15\n",
    "    \n",
    "    def _get_nq_tokens(self, simplified_nq_example):\n",
    "        if \"document_text\" not in simplified_nq_example:\n",
    "            raise ValueError(\"`get_nq_tokens` should be called on a simplified NQ\"\n",
    "                         \"example that contains the `document_text` field.\")\n",
    "\n",
    "        return simplified_nq_example[\"document_text\"].split(\" \")\n",
    "    \n",
    "    def _clean_token(self, token):\n",
    "        return re.sub(u\" \", \"_\", token[\"token\"])\n",
    "\n",
    "    def _remove_html_byte_offsets(self, span):\n",
    "        if \"start_byte\" in span:\n",
    "            del span[\"start_byte\"]\n",
    "\n",
    "        if \"end_byte\" in span:\n",
    "            del span[\"end_byte\"]\n",
    "\n",
    "        return span\n",
    "\n",
    "    def _clean_annotation(self, annotation):\n",
    "        annotation[\"long_answer\"] = self._remove_html_byte_offsets(\n",
    "            annotation[\"long_answer\"])\n",
    "        annotation[\"short_answers\"] = [\n",
    "            self._remove_html_byte_offsets(sa) for sa in annotation[\"short_answers\"]\n",
    "        ]\n",
    "        return annotation\n",
    "    \n",
    "    def _simplify_nq_example(self, nq_example):\n",
    "        text = \" \".join([self._clean_token(t) for t in nq_example[\"document_tokens\"]])\n",
    "\n",
    "        simplified_nq_example = {\n",
    "          \"question_text\": nq_example[\"question_text\"],\n",
    "          \"example_id\": nq_example[\"example_id\"],\n",
    "          \"document_url\": nq_example[\"document_url\"],\n",
    "          \"document_text\": text,\n",
    "          \"long_answer_candidates\": [\n",
    "              self._remove_html_byte_offsets(c)\n",
    "              for c in nq_example[\"long_answer_candidates\"]\n",
    "          ],\n",
    "          \"annotations\": [self._clean_annotation(a) for a in nq_example[\"annotations\"]]\n",
    "        }\n",
    "\n",
    "        if len(self._get_nq_tokens(simplified_nq_example)) != len(\n",
    "          nq_example[\"document_tokens\"]):\n",
    "            raise ValueError(\"Incorrect number of tokens.\")\n",
    "\n",
    "        return simplified_nq_example\n",
    "    \n",
    "    def _get_question_and_document(self, line):\n",
    "        question = line['question_text']\n",
    "        text = line['document_text'].split(' ')\n",
    "        annotations = line['annotations'][0]\n",
    "\n",
    "        return question, text, annotations\n",
    "\n",
    "\n",
    "    def _get_long_candidate(self, i, annotations, candidate):\n",
    "        if i == annotations['long_answer']['candidate_index']:\n",
    "            label = 1\n",
    "        else:\n",
    "            label = 0\n",
    "\n",
    "        # get place where long answer starts and ends in the document text\n",
    "        long_start = candidate['start_token']\n",
    "        long_end = candidate['end_token']\n",
    "\n",
    "        return label, long_start, long_end\n",
    "    \n",
    "    def _preprocess_data(self, data):\n",
    "        rows = []\n",
    "\n",
    "        for line in data:\n",
    "            if not self._kaggle_format:\n",
    "                line = self._simplify_nq_example(line)\n",
    "            question, text, annotations = self._get_question_and_document(line)\n",
    "            for i, candidate in enumerate(line['long_answer_candidates']):\n",
    "                label, long_start, long_end = self._get_long_candidate(i, annotations, candidate)\n",
    "\n",
    "                if label == True or (i % self.SAMPLE_RATE == 0):\n",
    "                    rows.append(\n",
    "                        self._form_data_row(question, label, text, long_start, long_end)\n",
    "                    )\n",
    "\n",
    "        return pd.DataFrame(rows)\n",
    "    \n",
    "    def _remove_stopwords(self, sentence):\n",
    "        words = sentence.split()\n",
    "        words = [word for word in words if word not in stopwords.words('english')]\n",
    "\n",
    "        return ' '.join(words)\n",
    "\n",
    "    def _remove_html(self, sentence):\n",
    "        html = re.compile(r'<.*?>')\n",
    "        return html.sub(r'', sentence)\n",
    "\n",
    "    def _clean_df_by_column(self, df, column):\n",
    "        df[column] = df[column].apply(lambda x : self._remove_stopwords(x))\n",
    "        df[column] = df[column].apply(lambda x : self._remove_html(x))\n",
    "        return df\n",
    "\n",
    "    def _clean_df(self, df):\n",
    "        df = self._clean_df_by_column(df, 'long_answer')\n",
    "        df = self._clean_df_by_column(df, 'question')\n",
    "        return df\n",
    "    \n",
    "    def __getitem__(self, idx):\n",
    "        raise NotImplementedError('method __getitem__ is not implemented')\n",
    "    \n",
    "    def __len__(self):\n",
    "        raise NotImplementedError('method __len__ is not implemented')"
   ]
  },
  {
   "cell_type": "code",
   "execution_count": 114,
   "id": "3f1285e1-d2d7-406a-b560-7d2c9952f147",
   "metadata": {},
   "outputs": [],
   "source": [
    "from sklearn.utils import resample, shuffle"
   ]
  },
  {
   "cell_type": "code",
   "execution_count": 118,
   "id": "8c2ad05c-9bdd-4ec7-a09a-acf137c2c467",
   "metadata": {},
   "outputs": [],
   "source": [
    "class TrainLongAnswerDataset(LongAnswerDatasetBase):\n",
    "    def __init__(self, data, tokenizer, max_len=150, kaggle_format=True, balance=True):\n",
    "        self._tokenizer = tokenizer\n",
    "        self._max_len = max_len\n",
    "        self._kaggle_format = kaggle_format\n",
    "        \n",
    "        data = self._preprocess_data(data)\n",
    "        data = self._clean_df(data)\n",
    "        if balance:\n",
    "            data = self._balance_data(data)\n",
    "        self._questions = data.question.values\n",
    "        self._long_answers = data.long_answer.values\n",
    "        self._targets = data.is_long_answer.values\n",
    "        \n",
    "    \n",
    "    def _balance_data(self, data):\n",
    "        data_unbalanced_majority = data[data.is_long_answer == 0]\n",
    "        data_unbalanced_minority = data[data.is_long_answer == 1]\n",
    "        majority_size = data_unbalanced_majority.shape[0]\n",
    "        data_balanced_minority = resample(data_unbalanced_minority, \n",
    "                                          replace=True,\n",
    "                                          n_samples=majority_size)\n",
    "        data_balanced = pd.concat([data_unbalanced_majority, data_balanced_minority])\n",
    "        return shuffle(data_balanced).reset_index(drop=True)\n",
    "        \n",
    "\n",
    "    def _form_data_row(self, question, label, text, long_start, long_end):\n",
    "        row = {\n",
    "            'question': question,\n",
    "            'long_answer': ' '.join(text[long_start:long_end]),\n",
    "            'is_long_answer': label,\n",
    "        }\n",
    "\n",
    "        return row\n",
    "    \n",
    "    def __getitem__(self, idx):\n",
    "        input_tokens = self._questions[idx].split()\n",
    "        input_tokens.append(' ' + self._tokenizer.sep_token + ' ')\n",
    "        long_answer_tokens = self._long_answers[idx].split()\n",
    "        input_tokens.extend(long_answer_tokens)\n",
    "        encoding = self._tokenizer(input_tokens,\n",
    "                          is_split_into_words=True,\n",
    "                          return_offsets_mapping=False,\n",
    "                          return_token_type_ids=False,\n",
    "                          padding='max_length',\n",
    "                          truncation=True,\n",
    "                          max_length=self._max_len,\n",
    "                          return_tensors='pt')\n",
    "        return encoding, self._targets[idx]\n",
    "\n",
    "    def __len__(self):\n",
    "        return self._targets.shape[0]"
   ]
  },
  {
   "cell_type": "code",
   "execution_count": 119,
   "id": "18b9bdf8-d410-4ef3-94f1-d4627555052c",
   "metadata": {},
   "outputs": [],
   "source": [
    "class TestLongAnswerDataset(LongAnswerDatasetBase):\n",
    "    def __init__(self, data, tokenizer, max_len=150, kaggle_format=True):\n",
    "        self._tokenizer = tokenizer\n",
    "        self._max_len = max_len\n",
    "        self._kaggle_format = kaggle_format\n",
    "        \n",
    "        data = self._preprocess_data(data)\n",
    "        data = self._clean_df(data)\n",
    "        self._data = {index: question_df for index, (question, question_df) in enumerate(data.groupby('question'))}\n",
    "\n",
    "    def _form_data_row(self, question, label, text, long_start, long_end):\n",
    "        row = {\n",
    "            'question': question,\n",
    "            'long_answer': ' '.join(text[long_start:long_end]),\n",
    "            'is_long_answer': label,\n",
    "            'long_start': long_start,\n",
    "            'long_end': long_end\n",
    "        }\n",
    "\n",
    "        return row\n",
    "\n",
    "    def __getitem__(self, idx):\n",
    "        labels, texts, indices = [], [], []\n",
    "        current_data = self._data[idx]\n",
    "        for i in range(current_data.shape[0]):\n",
    "            question = current_data.question.iloc[i]\n",
    "            answer = current_data.long_answer.iloc[i]\n",
    "            start = current_data.long_start.iloc[i]\n",
    "            end = current_data.long_end.iloc[i]\n",
    "            \n",
    "            texts.append(question + self._tokenizer.sep_token + answer)\n",
    "            labels.append(current_data.is_long_answer.iloc[i])\n",
    "            indices.append(f\"{start}:{end}\")\n",
    "            \n",
    "        encoding = self._tokenizer(texts,\n",
    "                                   return_offsets_mapping=False,\n",
    "                                   return_token_type_ids=False,\n",
    "                                   padding='max_length',\n",
    "                                   truncation=True,\n",
    "                                   max_length=self._max_len,\n",
    "                                   return_tensors='pt')\n",
    "        return encoding, labels, indices\n",
    "   \n",
    "    def __len__(self):\n",
    "        return len(self._data)"
   ]
  },
  {
   "cell_type": "code",
   "execution_count": 9,
   "id": "72778785",
   "metadata": {},
   "outputs": [],
   "source": [
    "from torch.nn import DataParallel"
   ]
  },
  {
   "cell_type": "code",
   "execution_count": 76,
   "id": "ba920d7f-ddb8-44d0-a36c-1db554cedb69",
   "metadata": {},
   "outputs": [],
   "source": [
    "class LongAnswerModel():\n",
    "    \n",
    "    def __init__(self, model, device):\n",
    "        self.model = model\n",
    "        self.device = device\n",
    "#         self.model.to(device)\n",
    "        \n",
    "        # PARALLEL\n",
    "        self.model = DataParallel(self.model).to(device)\n",
    "        \n",
    "    def __call__(self, input_ids, attn_mask):\n",
    "        \n",
    "        self.model.eval()\n",
    "        \n",
    "        with torch.no_grad():\n",
    "            \n",
    "            input_ids = input_ids.to(self.device)\n",
    "            output = self.model(input_ids=input_ids, attention_mask=attn_mask)\n",
    "            logits = output['logits']\n",
    "            active_logits = logits.view(-1, model.num_labels)\n",
    "            flattened_pred = torch.argmax(active_logits, axis=1)\n",
    "            if 1 in flattened_pred:\n",
    "                ind = torch.argmax(active_logits[:, 1]).item()\n",
    "                prediction = torch.zeros_like(flattened_pred)\n",
    "                prediction[ind] = 1\n",
    "                return prediction\n",
    "        return flattened_pred\n",
    "        \n",
    "        \n",
    "    def plot_log(self, train_losses, val_losses, val_fscores):\n",
    "        clear_output()\n",
    "        fig, (ax1, ax2, ax3) = plt.subplots(1, 3, figsize=(7, 3))\n",
    "        fig.suptitle('Training Log', fontsize=8)\n",
    "        ax1.plot(train_losses)\n",
    "        ax1.set_title('Train Loss', fontsize=8)\n",
    "        ax1.tick_params(labelsize=6)\n",
    "        ax2.plot(val_losses)\n",
    "        ax2.set_title('Val Loss', fontsize=8)\n",
    "        ax2.tick_params(labelsize=6)\n",
    "        ax3.plot(val_fscores)\n",
    "        ax3.set_title(\"Val F1\", fontsize=8)\n",
    "        ax3.tick_params(labelsize=6)\n",
    "        plt.show()\n",
    "        \n",
    "    def validate(self, val_dataloader):\n",
    "        \n",
    "        self.model.eval()\n",
    "        \n",
    "        val_loss, val_fscore = 0, 0\n",
    "        \n",
    "        # ADDED TORCH NO GRAD\n",
    "        with torch.no_grad():\n",
    "            for batch in val_dataloader:\n",
    "\n",
    "                tokens, labels = batch\n",
    "                ids = tokens['input_ids'].to(self.device).squeeze(dim=1)\n",
    "                mask = tokens['attention_mask'].to(self.device).squeeze(dim=1)\n",
    "                labels = labels.to(self.device) #.squeeze(dim=1)\n",
    "\n",
    "                output = self.model(input_ids=ids, attention_mask=mask, labels=labels)\n",
    "                loss = output['loss']\n",
    "                logits = output['logits']\n",
    "\n",
    "                # PARALLEL\n",
    "                if torch.cuda.device_count() > 1:\n",
    "                        loss = loss.mean()\n",
    "\n",
    "                val_loss += loss.item()\n",
    "\n",
    "                gold = labels.view(-1)\n",
    "                active_logits = logits.view(-1, model.num_labels)\n",
    "                pred = torch.argmax(active_logits, axis=1) \n",
    "\n",
    "                fscore = f1_score(gold.cpu().numpy(), pred.cpu().numpy(), average='micro')\n",
    "                val_fscore += fscore\n",
    "\n",
    "        avg_val_loss = val_loss / len(val_dataloader)\n",
    "        avg_val_f1 = val_fscore / len(val_dataloader)\n",
    "        return avg_val_loss, avg_val_f1\n",
    "    \n",
    "    def train(self, train_dataloader, val_dataloader, n_epoch, optimizer):\n",
    "        \n",
    "        train_losses, val_losses = [], []\n",
    "        val_fscores = []\n",
    "                \n",
    "        for epoch in range(n_epoch):\n",
    "            \n",
    "            start_time = time.time()\n",
    "            \n",
    "            self.model.train()\n",
    "            \n",
    "            train_loss, train_fscore = 0, 0\n",
    "            \n",
    "            for batch in train_dataloader:\n",
    "                \n",
    "                tokens, labels = batch\n",
    "                ids = tokens['input_ids'].to(self.device).squeeze(dim=1)\n",
    "                mask = tokens['attention_mask'].to(self.device).squeeze(dim=1)\n",
    "                labels = labels.to(self.device) # .squeeze(dim=1)\n",
    "                \n",
    "                output = self.model(input_ids=ids, attention_mask=mask, labels=labels)\n",
    "                loss = output['loss']\n",
    "                logits = output['logits']\n",
    "            \n",
    "                # PARALLEL\n",
    "                if torch.cuda.device_count() > 1:\n",
    "                        loss = loss.mean()\n",
    "                \n",
    "                train_loss += loss.item()\n",
    "                \n",
    "                self.model.zero_grad()\n",
    "                loss.backward()\n",
    "                optimizer.step()\n",
    "                \n",
    "                # compute accuracy\n",
    "                gold = labels.view(-1)\n",
    "                active_logits = logits.view(-1, model.num_labels)\n",
    "                pred = torch.argmax(active_logits, axis=1) \n",
    "\n",
    "                fscore = f1_score(gold.cpu().numpy(), pred.cpu().numpy(), average='micro')\n",
    "                train_fscore += fscore\n",
    "                \n",
    "                print(f'Batch Loss: {loss}')\n",
    "                print(f'Batch F-score: {fscore:.3f}')\n",
    "                \n",
    "            avg_train_loss = train_loss / len(train_dataloader)\n",
    "            avg_train_f1 = train_fscore / len(train_dataloader)\n",
    "            \n",
    "            avg_val_loss, avg_val_f1 = self.validate(val_dataloader)\n",
    "            \n",
    "            train_losses.append(avg_train_loss)\n",
    "            val_losses.append(avg_val_loss)\n",
    "            val_fscores.append(avg_val_f1)\n",
    "            \n",
    "            self.plot_log(train_losses, val_losses, val_fscores)\n",
    "            \n",
    "            print(f'Epoch {epoch}')\n",
    "            print(f'Train loss: {avg_train_loss:.3f}')\n",
    "            print(f'Train micro F1: {avg_train_f1:.3f}')\n",
    "            print(f'Validation loss: {avg_val_loss:.3f}')\n",
    "            print(f'Validation micro F1: {avg_val_f1:.3f}')\n",
    "            curr_time = time.time() - start_time\n",
    "            print(f'Epoch time: {curr_time:.3f}s')"
   ]
  },
  {
   "cell_type": "code",
   "execution_count": 11,
   "id": "4b89fe4c",
   "metadata": {},
   "outputs": [],
   "source": [
    "from sklearn.model_selection import train_test_split"
   ]
  },
  {
   "cell_type": "code",
   "execution_count": 12,
   "id": "03abfc13",
   "metadata": {},
   "outputs": [],
   "source": [
    "train, test = train_test_split(data, test_size=0.3, random_state=42)\n",
    "test, val = train_test_split(test, test_size=0.5, random_state=42)"
   ]
  },
  {
   "cell_type": "code",
   "execution_count": 120,
   "id": "52814783-f43c-4236-aafa-f7e46c4ac599",
   "metadata": {},
   "outputs": [],
   "source": [
    "max_len = 500\n",
    "dataset1 = TrainLongAnswerDataset(train, tokenizer, max_len, kaggle_format=False)\n",
    "train_dataloader = DataLoader(dataset1, batch_size=5, shuffle=True)\n",
    "\n",
    "dataset2 = TrainLongAnswerDataset(val, tokenizer, max_len, kaggle_format=False)\n",
    "val_dataloader = DataLoader(dataset2, batch_size=5, shuffle=True)"
   ]
  },
  {
   "cell_type": "code",
   "execution_count": 44,
   "id": "2bd42fb3-a0ba-4834-a6ad-11440f7e6245",
   "metadata": {},
   "outputs": [],
   "source": [
    "dataset3 = TestLongAnswerDataset(test, tokenizer, max_len, kaggle_format=False)"
   ]
  },
  {
   "cell_type": "code",
   "execution_count": 122,
   "id": "ea812fb6",
   "metadata": {},
   "outputs": [
    {
     "data": {
      "text/plain": [
       "(19058, 4080, 1174)"
      ]
     },
     "execution_count": 122,
     "metadata": {},
     "output_type": "execute_result"
    }
   ],
   "source": [
    "len(train_dataloader), len(val_dataloader), len(dataset3)"
   ]
  },
  {
   "cell_type": "code",
   "execution_count": 19,
   "id": "55209cf4-de28-4ece-a69b-730d62cc41b0",
   "metadata": {},
   "outputs": [
    {
     "data": {
      "text/plain": [
       "device(type='cpu')"
      ]
     },
     "execution_count": 19,
     "metadata": {},
     "output_type": "execute_result"
    }
   ],
   "source": [
    "device = torch.device('cuda' if torch.cuda.is_available() else 'cpu')\n",
    "device"
   ]
  },
  {
   "cell_type": "code",
   "execution_count": 20,
   "id": "305e7660-28da-4ed0-b9a0-12309807d5c4",
   "metadata": {},
   "outputs": [],
   "source": [
    "# lr = 1e-05\n",
    "lr = 1e-06\n",
    "optimizer = torch.optim.Adam(params=model.parameters(), lr=lr)"
   ]
  },
  {
   "cell_type": "code",
   "execution_count": 135,
   "id": "1a7d2eed-6ec8-4b44-b137-89eff6f152d5",
   "metadata": {},
   "outputs": [],
   "source": [
    "# state_dict = torch.load('long_model.pt', map_location=device)\n",
    "# model.load_state_dict(state_dict)"
   ]
  },
  {
   "cell_type": "code",
   "execution_count": 81,
   "id": "3b96fd71-de97-4d32-9ec1-1a27e5c701f6",
   "metadata": {},
   "outputs": [],
   "source": [
    "answer_model = LongAnswerModel(model, device=device)"
   ]
  },
  {
   "cell_type": "markdown",
   "id": "bbc38edb",
   "metadata": {},
   "source": [
    "### Train"
   ]
  },
  {
   "cell_type": "code",
   "execution_count": 92,
   "id": "1bc7b086-f3be-4666-9d64-e357ee7e82a0",
   "metadata": {},
   "outputs": [
    {
     "data": {
      "image/png": "[encoded data removed]",
      "text/plain": [
       "<Figure size 700x300 with 3 Axes>"
      ]
     },
     "metadata": {},
     "output_type": "display_data"
    },
    {
     "name": "stdout",
     "output_type": "stream",
     "text": [
      "Epoch 0\n",
      "Train loss: 0.236\n",
      "Train micro F1: 0.938\n",
      "Validation loss: 0.229\n",
      "Validation micro F1: 0.937\n",
      "Epoch time: 1733.305s\n"
     ]
    }
   ],
   "source": [
    "answer_model.train(train_dataloader, val_dataloader, 1, optimizer)"
   ]
  },
  {
   "cell_type": "code",
   "execution_count": 17,
   "id": "f15cbb3f",
   "metadata": {},
   "outputs": [],
   "source": [
    "# torch.save(model.state_dict(), 'long_model.pt')"
   ]
  },
  {
   "cell_type": "code",
   "execution_count": 19,
   "id": "7eb37943",
   "metadata": {},
   "outputs": [],
   "source": [
    "# model = torch.load('long_model.pt')"
   ]
  },
  {
   "cell_type": "markdown",
   "id": "5ec3e438",
   "metadata": {},
   "source": [
    "### Test model"
   ]
  },
  {
   "cell_type": "code",
   "execution_count": null,
   "id": "67379059-fc3d-4bbf-aec1-00df775d46ea",
   "metadata": {},
   "outputs": [],
   "source": [
    "from tqdm import tqdm"
   ]
  },
  {
   "cell_type": "code",
   "execution_count": null,
   "id": "7eddf4f3-b21f-4eb6-b1bd-a84a4ab11ec1",
   "metadata": {},
   "outputs": [],
   "source": [
    "def get_inds(labels, indices):\n",
    "    if 1 not in labels:\n",
    "        return '-1:-1'\n",
    "    ind = labels.index(1)\n",
    "    return indices[ind]"
   ]
  },
  {
   "cell_type": "code",
   "execution_count": null,
   "id": "20db3fa8-be01-4233-b8b6-4e3c7770d8b5",
   "metadata": {},
   "outputs": [],
   "source": [
    "pred, gold = [], []\n",
    "\n",
    "for batch in tqdm(dataset3):\n",
    "    encoding, labels, indices = batch\n",
    "    answer = answer_model(encoding['input_ids'], encoding['attention_mask'])\n",
    "    pred.append(get_inds(answer.cpu().tolist(), indices))\n",
    "    gold.append(get_inds(labels, indices))"
   ]
  },
  {
   "cell_type": "code",
   "execution_count": null,
   "id": "e9e1e8a6-4aa8-4843-9fde-b0573a61104b",
   "metadata": {},
   "outputs": [],
   "source": [
    "print(f\"F score: {f1_score(pred, gold, average='micro'):.4f}\")"
   ]
  },
  {
   "cell_type": "markdown",
   "id": "0b7eecb7-1cfd-4a0c-b227-f9472a9e18a1",
   "metadata": {},
   "source": [
    "### How to balance data?"
   ]
  },
  {
   "cell_type": "markdown",
   "id": "7f4e725b-2df5-47db-9e3e-9bca08b05155",
   "metadata": {},
   "source": [
    "[resample](https://elitedatascience.com/imbalanced-classes)"
   ]
  },
  {
   "cell_type": "code",
   "execution_count": 104,
   "id": "a1166f95-c682-40dd-b4cf-9bd5b79adf8c",
   "metadata": {},
   "outputs": [],
   "source": [
    "from sklearn.utils import resample, shuffle"
   ]
  },
  {
   "cell_type": "code",
   "execution_count": 89,
   "id": "16cfccb0-f396-4d7b-9649-722f800d9a7b",
   "metadata": {},
   "outputs": [],
   "source": [
    "data_unbalanced = dataset2.data.copy()"
   ]
  },
  {
   "cell_type": "code",
   "execution_count": 90,
   "id": "da128aa7-0c7d-4bc0-a7ad-fdbc48210539",
   "metadata": {},
   "outputs": [
    {
     "data": {
      "text/html": [
       "<div>\n",
       "<style scoped>\n",
       "    .dataframe tbody tr th:only-of-type {\n",
       "        vertical-align: middle;\n",
       "    }\n",
       "\n",
       "    .dataframe tbody tr th {\n",
       "        vertical-align: top;\n",
       "    }\n",
       "\n",
       "    .dataframe thead th {\n",
       "        text-align: right;\n",
       "    }\n",
       "</style>\n",
       "<table border=\"1\" class=\"dataframe\">\n",
       "  <thead>\n",
       "    <tr style=\"text-align: right;\">\n",
       "      <th></th>\n",
       "      <th>question</th>\n",
       "      <th>long_answer</th>\n",
       "      <th>is_long_answer</th>\n",
       "    </tr>\n",
       "  </thead>\n",
       "  <tbody>\n",
       "    <tr>\n",
       "      <th>0</th>\n",
       "      <td>becomes chief resident grey's anatomy season 7</td>\n",
       "      <td>April Kepner     Grey 's Anatomy character ...</td>\n",
       "      <td>0</td>\n",
       "    </tr>\n",
       "    <tr>\n",
       "      <th>1</th>\n",
       "      <td>becomes chief resident grey's anatomy season 7</td>\n",
       "      <td>Religion   Christianity</td>\n",
       "      <td>0</td>\n",
       "    </tr>\n",
       "    <tr>\n",
       "      <th>2</th>\n",
       "      <td>becomes chief resident grey's anatomy season 7</td>\n",
       "      <td>Kepner reveals virgin Christian made promise ...</td>\n",
       "      <td>1</td>\n",
       "    </tr>\n",
       "    <tr>\n",
       "      <th>3</th>\n",
       "      <td>becomes chief resident grey's anatomy season 7</td>\n",
       "      <td>In Season 12 , April Jackson go divorce proce...</td>\n",
       "      <td>0</td>\n",
       "    </tr>\n",
       "    <tr>\n",
       "      <th>4</th>\n",
       "      <td>list environmentally critical areas philippines</td>\n",
       "      <td>This list protected areas Philippines adminis...</td>\n",
       "      <td>0</td>\n",
       "    </tr>\n",
       "  </tbody>\n",
       "</table>\n",
       "</div>"
      ],
      "text/plain": [
       "                                          question  \\\n",
       "0   becomes chief resident grey's anatomy season 7   \n",
       "1   becomes chief resident grey's anatomy season 7   \n",
       "2   becomes chief resident grey's anatomy season 7   \n",
       "3   becomes chief resident grey's anatomy season 7   \n",
       "4  list environmentally critical areas philippines   \n",
       "\n",
       "                                         long_answer  is_long_answer  \n",
       "0     April Kepner     Grey 's Anatomy character ...               0  \n",
       "1                          Religion   Christianity                 0  \n",
       "2   Kepner reveals virgin Christian made promise ...               1  \n",
       "3   In Season 12 , April Jackson go divorce proce...               0  \n",
       "4   This list protected areas Philippines adminis...               0  "
      ]
     },
     "execution_count": 90,
     "metadata": {},
     "output_type": "execute_result"
    }
   ],
   "source": [
    "data_unbalanced.head()"
   ]
  },
  {
   "cell_type": "code",
   "execution_count": 91,
   "id": "3e7637fd-dd38-4357-8eed-564a2098539c",
   "metadata": {},
   "outputs": [],
   "source": [
    "data_unbalanced_majority = data_unbalanced[data_unbalanced.is_long_answer == 0]\n",
    "data_unbalanced_minority = data_unbalanced[data_unbalanced.is_long_answer == 1]"
   ]
  },
  {
   "cell_type": "code",
   "execution_count": 92,
   "id": "dc883e83-ac0e-4ba7-8b4b-d8e96f1fd6e3",
   "metadata": {},
   "outputs": [
    {
     "data": {
      "text/plain": [
       "10200"
      ]
     },
     "execution_count": 92,
     "metadata": {},
     "output_type": "execute_result"
    }
   ],
   "source": [
    "data_unbalanced_majority.shape[0]"
   ]
  },
  {
   "cell_type": "code",
   "execution_count": 93,
   "id": "03aed29d-81ac-42bc-bd96-8250feec248b",
   "metadata": {},
   "outputs": [
    {
     "data": {
      "text/plain": [
       "541"
      ]
     },
     "execution_count": 93,
     "metadata": {},
     "output_type": "execute_result"
    }
   ],
   "source": [
    "data_unbalanced_minority.shape[0]"
   ]
  },
  {
   "cell_type": "code",
   "execution_count": 95,
   "id": "b51224c3-df1b-457c-aa68-1f0b1a3dde8c",
   "metadata": {},
   "outputs": [],
   "source": [
    "data_balanced_minority = resample(data_unbalanced_minority, \n",
    "                                  replace=True,\n",
    "                                  n_samples=10200)"
   ]
  },
  {
   "cell_type": "code",
   "execution_count": 96,
   "id": "282b2a37-c40d-4485-b5e4-15e0c2e42084",
   "metadata": {},
   "outputs": [
    {
     "data": {
      "text/plain": [
       "10200"
      ]
     },
     "execution_count": 96,
     "metadata": {},
     "output_type": "execute_result"
    }
   ],
   "source": [
    "data_balanced_minority.shape[0]"
   ]
  },
  {
   "cell_type": "code",
   "execution_count": 97,
   "id": "9bf73ca3-4556-4850-be70-1ae734508164",
   "metadata": {},
   "outputs": [
    {
     "data": {
      "text/html": [
       "<div>\n",
       "<style scoped>\n",
       "    .dataframe tbody tr th:only-of-type {\n",
       "        vertical-align: middle;\n",
       "    }\n",
       "\n",
       "    .dataframe tbody tr th {\n",
       "        vertical-align: top;\n",
       "    }\n",
       "\n",
       "    .dataframe thead th {\n",
       "        text-align: right;\n",
       "    }\n",
       "</style>\n",
       "<table border=\"1\" class=\"dataframe\">\n",
       "  <thead>\n",
       "    <tr style=\"text-align: right;\">\n",
       "      <th></th>\n",
       "      <th>question</th>\n",
       "      <th>long_answer</th>\n",
       "      <th>is_long_answer</th>\n",
       "    </tr>\n",
       "  </thead>\n",
       "  <tbody>\n",
       "    <tr>\n",
       "      <th>7015</th>\n",
       "      <td>played daughters last man standing</td>\n",
       "      <td>Tim Allen Mike Baxter : Mike father three da...</td>\n",
       "      <td>1</td>\n",
       "    </tr>\n",
       "    <tr>\n",
       "      <th>567</th>\n",
       "      <td>played detective little boy blue</td>\n",
       "      <td>Stephen Graham -- Detective Superintendent Da...</td>\n",
       "      <td>1</td>\n",
       "    </tr>\n",
       "    <tr>\n",
       "      <th>10398</th>\n",
       "      <td>non controlling interest balance sheet</td>\n",
       "      <td>In accounting , minority interest ( non-contr...</td>\n",
       "      <td>1</td>\n",
       "    </tr>\n",
       "    <tr>\n",
       "      <th>3161</th>\n",
       "      <td>great wall china built defend</td>\n",
       "      <td>The history Great Wall China began fortificat...</td>\n",
       "      <td>1</td>\n",
       "    </tr>\n",
       "    <tr>\n",
       "      <th>4007</th>\n",
       "      <td>plays little girl jurassic park</td>\n",
       "      <td>Ariana Clarice Richards ( born September 11 ,...</td>\n",
       "      <td>1</td>\n",
       "    </tr>\n",
       "  </tbody>\n",
       "</table>\n",
       "</div>"
      ],
      "text/plain": [
       "                                     question  \\\n",
       "7015       played daughters last man standing   \n",
       "567          played detective little boy blue   \n",
       "10398  non controlling interest balance sheet   \n",
       "3161            great wall china built defend   \n",
       "4007          plays little girl jurassic park   \n",
       "\n",
       "                                             long_answer  is_long_answer  \n",
       "7015     Tim Allen Mike Baxter : Mike father three da...               1  \n",
       "567     Stephen Graham -- Detective Superintendent Da...               1  \n",
       "10398   In accounting , minority interest ( non-contr...               1  \n",
       "3161    The history Great Wall China began fortificat...               1  \n",
       "4007    Ariana Clarice Richards ( born September 11 ,...               1  "
      ]
     },
     "execution_count": 97,
     "metadata": {},
     "output_type": "execute_result"
    }
   ],
   "source": [
    "data_balanced_minority.head()"
   ]
  },
  {
   "cell_type": "code",
   "execution_count": 99,
   "id": "919689e7-ba31-456a-a201-0c8a47ef7701",
   "metadata": {},
   "outputs": [
    {
     "data": {
      "text/plain": [
       "541"
      ]
     },
     "execution_count": 99,
     "metadata": {},
     "output_type": "execute_result"
    }
   ],
   "source": [
    "data_balanced_minority.drop_duplicates().shape[0]"
   ]
  },
  {
   "cell_type": "code",
   "execution_count": 100,
   "id": "d854a0ac-1aff-4840-aa5d-d12c66d47231",
   "metadata": {},
   "outputs": [],
   "source": [
    "data_balanced = pd.concat([data_unbalanced_majority, data_balanced_minority])"
   ]
  },
  {
   "cell_type": "code",
   "execution_count": 101,
   "id": "778060f2-91e5-4a98-b2b5-3100493df18c",
   "metadata": {},
   "outputs": [
    {
     "data": {
      "text/plain": [
       "20400"
      ]
     },
     "execution_count": 101,
     "metadata": {},
     "output_type": "execute_result"
    }
   ],
   "source": [
    "data_balanced.shape[0]"
   ]
  },
  {
   "cell_type": "code",
   "execution_count": 111,
   "id": "a21c132b-411e-4b8a-825c-9936aa0cc5ab",
   "metadata": {},
   "outputs": [],
   "source": [
    "data_balanced = shuffle(data_balanced)"
   ]
  },
  {
   "cell_type": "code",
   "execution_count": 112,
   "id": "b6a8af7b-0167-49f1-9282-f5d900439275",
   "metadata": {},
   "outputs": [
    {
     "data": {
      "text/html": [
       "<div>\n",
       "<style scoped>\n",
       "    .dataframe tbody tr th:only-of-type {\n",
       "        vertical-align: middle;\n",
       "    }\n",
       "\n",
       "    .dataframe tbody tr th {\n",
       "        vertical-align: top;\n",
       "    }\n",
       "\n",
       "    .dataframe thead th {\n",
       "        text-align: right;\n",
       "    }\n",
       "</style>\n",
       "<table border=\"1\" class=\"dataframe\">\n",
       "  <thead>\n",
       "    <tr style=\"text-align: right;\">\n",
       "      <th></th>\n",
       "      <th>question</th>\n",
       "      <th>long_answer</th>\n",
       "      <th>is_long_answer</th>\n",
       "    </tr>\n",
       "  </thead>\n",
       "  <tbody>\n",
       "    <tr>\n",
       "      <th>759</th>\n",
       "      <td>justin bieber's purpose song</td>\n",
       "      <td>Australia ( ARIA )   3 × Platinum   210,000</td>\n",
       "      <td>0</td>\n",
       "    </tr>\n",
       "    <tr>\n",
       "      <th>10399</th>\n",
       "      <td>non controlling interest balance sheet</td>\n",
       "      <td>Some investors expressed concern minority int...</td>\n",
       "      <td>0</td>\n",
       "    </tr>\n",
       "    <tr>\n",
       "      <th>4279</th>\n",
       "      <td>season 2 attack titan many episodes</td>\n",
       "      <td>Season   Episodes   Originally aired     Fi...</td>\n",
       "      <td>1</td>\n",
       "    </tr>\n",
       "    <tr>\n",
       "      <th>2783</th>\n",
       "      <td>summer monkeys take place</td>\n",
       "      <td>The book set end nineteenth century . The pro...</td>\n",
       "      <td>1</td>\n",
       "    </tr>\n",
       "    <tr>\n",
       "      <th>9230</th>\n",
       "      <td>attack pearl harbor take place</td>\n",
       "      <td>Attack Pearl Harbor</td>\n",
       "      <td>0</td>\n",
       "    </tr>\n",
       "  </tbody>\n",
       "</table>\n",
       "</div>"
      ],
      "text/plain": [
       "                                     question  \\\n",
       "759              justin bieber's purpose song   \n",
       "10399  non controlling interest balance sheet   \n",
       "4279      season 2 attack titan many episodes   \n",
       "2783                summer monkeys take place   \n",
       "9230           attack pearl harbor take place   \n",
       "\n",
       "                                             long_answer  is_long_answer  \n",
       "759        Australia ( ARIA )   3 × Platinum   210,000                 0  \n",
       "10399   Some investors expressed concern minority int...               0  \n",
       "4279      Season   Episodes   Originally aired     Fi...               1  \n",
       "2783    The book set end nineteenth century . The pro...               1  \n",
       "9230                                Attack Pearl Harbor                0  "
      ]
     },
     "execution_count": 112,
     "metadata": {},
     "output_type": "execute_result"
    }
   ],
   "source": [
    "data_balanced.head()"
   ]
  },
  {
   "cell_type": "code",
   "execution_count": 113,
   "id": "bf3b22a5-15fc-485b-8043-1fef3885e60c",
   "metadata": {},
   "outputs": [
    {
     "data": {
      "text/html": [
       "<div>\n",
       "<style scoped>\n",
       "    .dataframe tbody tr th:only-of-type {\n",
       "        vertical-align: middle;\n",
       "    }\n",
       "\n",
       "    .dataframe tbody tr th {\n",
       "        vertical-align: top;\n",
       "    }\n",
       "\n",
       "    .dataframe thead th {\n",
       "        text-align: right;\n",
       "    }\n",
       "</style>\n",
       "<table border=\"1\" class=\"dataframe\">\n",
       "  <thead>\n",
       "    <tr style=\"text-align: right;\">\n",
       "      <th></th>\n",
       "      <th>question</th>\n",
       "      <th>long_answer</th>\n",
       "      <th>is_long_answer</th>\n",
       "    </tr>\n",
       "  </thead>\n",
       "  <tbody>\n",
       "    <tr>\n",
       "      <th>0</th>\n",
       "      <td>justin bieber's purpose song</td>\n",
       "      <td>Australia ( ARIA )   3 × Platinum   210,000</td>\n",
       "      <td>0</td>\n",
       "    </tr>\n",
       "    <tr>\n",
       "      <th>1</th>\n",
       "      <td>non controlling interest balance sheet</td>\n",
       "      <td>Some investors expressed concern minority int...</td>\n",
       "      <td>0</td>\n",
       "    </tr>\n",
       "    <tr>\n",
       "      <th>2</th>\n",
       "      <td>season 2 attack titan many episodes</td>\n",
       "      <td>Season   Episodes   Originally aired     Fi...</td>\n",
       "      <td>1</td>\n",
       "    </tr>\n",
       "    <tr>\n",
       "      <th>3</th>\n",
       "      <td>summer monkeys take place</td>\n",
       "      <td>The book set end nineteenth century . The pro...</td>\n",
       "      <td>1</td>\n",
       "    </tr>\n",
       "    <tr>\n",
       "      <th>4</th>\n",
       "      <td>attack pearl harbor take place</td>\n",
       "      <td>Attack Pearl Harbor</td>\n",
       "      <td>0</td>\n",
       "    </tr>\n",
       "  </tbody>\n",
       "</table>\n",
       "</div>"
      ],
      "text/plain": [
       "                                 question  \\\n",
       "0            justin bieber's purpose song   \n",
       "1  non controlling interest balance sheet   \n",
       "2     season 2 attack titan many episodes   \n",
       "3               summer monkeys take place   \n",
       "4          attack pearl harbor take place   \n",
       "\n",
       "                                         long_answer  is_long_answer  \n",
       "0      Australia ( ARIA )   3 × Platinum   210,000                 0  \n",
       "1   Some investors expressed concern minority int...               0  \n",
       "2     Season   Episodes   Originally aired     Fi...               1  \n",
       "3   The book set end nineteenth century . The pro...               1  \n",
       "4                               Attack Pearl Harbor                0  "
      ]
     },
     "execution_count": 113,
     "metadata": {},
     "output_type": "execute_result"
    }
   ],
   "source": [
    "data_balanced.reset_index(drop=True).head()"
   ]
  },
  {
   "cell_type": "code",
   "execution_count": null,
   "id": "d9b06d6b-fa31-486d-a566-e806f7f2f31b",
   "metadata": {},
   "outputs": [],
   "source": []
  }
 ],
 "metadata": {
  "kernelspec": {
   "display_name": "Python 3 (ipykernel)",
   "language": "python",
   "name": "python3"
  },
  "language_info": {
   "codemirror_mode": {
    "name": "ipython",
    "version": 3
   },
   "file_extension": ".py",
   "mimetype": "text/x-python",
   "name": "python",
   "nbconvert_exporter": "python",
   "pygments_lexer": "ipython3",
   "version": "3.7.9"
  }
 },
 "nbformat": 4,
 "nbformat_minor": 5
}
